{
  "cells": [
    {
      "cell_type": "markdown",
      "metadata": {
        "id": "view-in-github",
        "colab_type": "text"
      },
      "source": [
        "<a href=\"https://colab.research.google.com/github/saikiran101/Gen-AI-Text-Preprocessing/blob/main/text_preprocessing.ipynb\" target=\"_parent\"><img src=\"https://colab.research.google.com/assets/colab-badge.svg\" alt=\"Open In Colab\"/></a>"
      ]
    },
    {
      "cell_type": "markdown",
      "metadata": {
        "id": "1xoh4zfO7Lwe"
      },
      "source": [
        "# Stemming and lemmitization\n",
        "\n",
        "text preprocessing\n",
        "\n",
        "**objective:**\n",
        "\n",
        "clean text data so its uniform, lowercase and ready for further analysis.\n",
        "\n",
        "lowercasing\n",
        "\n",
        "- Goal: Convert all Text to lowercase to avoid treating “LOVE” and “love”  as different word."
      ]
    },
    {
      "cell_type": "code",
      "execution_count": null,
      "metadata": {
        "id": "1MtzfoEV7Lwf",
        "outputId": "016ff624-4074-40bb-b86a-9d86d24905c3"
      },
      "outputs": [
        {
          "data": {
            "text/html": [
              "<div>\n",
              "<style scoped>\n",
              "    .dataframe tbody tr th:only-of-type {\n",
              "        vertical-align: middle;\n",
              "    }\n",
              "\n",
              "    .dataframe tbody tr th {\n",
              "        vertical-align: top;\n",
              "    }\n",
              "\n",
              "    .dataframe thead th {\n",
              "        text-align: right;\n",
              "    }\n",
              "</style>\n",
              "<table border=\"1\" class=\"dataframe\">\n",
              "  <thead>\n",
              "    <tr style=\"text-align: right;\">\n",
              "      <th></th>\n",
              "      <th>Reviews</th>\n",
              "      <th>Reviews_lowercase</th>\n",
              "    </tr>\n",
              "  </thead>\n",
              "  <tbody>\n",
              "    <tr>\n",
              "      <th>0</th>\n",
              "      <td>Subhash Chandra Bose was a prominent Indian na...</td>\n",
              "      <td>subhash chandra bose was a prominent indian na...</td>\n",
              "    </tr>\n",
              "    <tr>\n",
              "      <th>1</th>\n",
              "      <td>He was born on January 23, 1897, in Cuttack, O...</td>\n",
              "      <td>he was born on january 23, 1897, in cuttack, o...</td>\n",
              "    </tr>\n",
              "    <tr>\n",
              "      <th>2</th>\n",
              "      <td>Bose was known for his militant approach and f...</td>\n",
              "      <td>bose was known for his militant approach and f...</td>\n",
              "    </tr>\n",
              "    <tr>\n",
              "      <th>3</th>\n",
              "      <td>He sought assistance from Axis powers during W...</td>\n",
              "      <td>he sought assistance from axis powers during w...</td>\n",
              "    </tr>\n",
              "    <tr>\n",
              "      <th>4</th>\n",
              "      <td>His famous slogan Give me blood, and I will gi...</td>\n",
              "      <td>his famous slogan give me blood, and i will gi...</td>\n",
              "    </tr>\n",
              "    <tr>\n",
              "      <th>5</th>\n",
              "      <td>Bose's 😎 mysterious disappearance in 1945 rema...</td>\n",
              "      <td>bose's 😎 mysterious disappearance in 1945 rema...</td>\n",
              "    </tr>\n",
              "  </tbody>\n",
              "</table>\n",
              "</div>"
            ],
            "text/plain": [
              "                                             Reviews  \\\n",
              "0  Subhash Chandra Bose was a prominent Indian na...   \n",
              "1  He was born on January 23, 1897, in Cuttack, O...   \n",
              "2  Bose was known for his militant approach and f...   \n",
              "3  He sought assistance from Axis powers during W...   \n",
              "4  His famous slogan Give me blood, and I will gi...   \n",
              "5  Bose's 😎 mysterious disappearance in 1945 rema...   \n",
              "\n",
              "                                   Reviews_lowercase  \n",
              "0  subhash chandra bose was a prominent indian na...  \n",
              "1  he was born on january 23, 1897, in cuttack, o...  \n",
              "2  bose was known for his militant approach and f...  \n",
              "3  he sought assistance from axis powers during w...  \n",
              "4  his famous slogan give me blood, and i will gi...  \n",
              "5  bose's 😎 mysterious disappearance in 1945 rema...  "
            ]
          },
          "execution_count": 11,
          "metadata": {},
          "output_type": "execute_result"
        }
      ],
      "source": [
        "import pandas as pd\n",
        "\n",
        "reviews=[\"Subhash Chandra Bose was a prominent Indian nationalist leader who fought for India's independence from British rule.\",\n",
        "  \"He was born on January 23, 1897, in Cuttack, Odisha.\",\n",
        "  \"Bose was known for his militant approach and formed the Indian National Army (INA) to overthrow British rule.\",\n",
        "  \"He sought assistance from Axis powers during World War II to achieve his goals.\",\n",
        "  \"His famous slogan Give me blood, and I will give you freedom inspired many Indians to join the freedom struggle.\",\n",
        "  \"Bose's 😎 mysterious disappearance in 1945 remains a subject of intrigue and speculation\"\n",
        "]\n",
        "\n",
        "df_reviews=pd.DataFrame(reviews,columns=[\"Reviews\"])\n",
        "\n",
        "df_reviews[\"Reviews_lowercase\"]=df_reviews[\"Reviews\"].str.lower()\n",
        "df_reviews"
      ]
    },
    {
      "cell_type": "markdown",
      "metadata": {
        "id": "aHUW6IrM7Lwg"
      },
      "source": [
        "## Remove the Punctuation and Emojis\n",
        "\n",
        "Goal is to remove unnecessary  characters like  punctuation and emojis to simplify analysis."
      ]
    },
    {
      "cell_type": "code",
      "execution_count": null,
      "metadata": {
        "vscode": {
          "languageId": "markdown"
        },
        "id": "kk_N9ycK7Lwg",
        "outputId": "ff650a82-057f-4028-a400-55c7dfe18a1a"
      },
      "outputs": [
        {
          "data": {
            "text/html": [
              "<div>\n",
              "<style scoped>\n",
              "    .dataframe tbody tr th:only-of-type {\n",
              "        vertical-align: middle;\n",
              "    }\n",
              "\n",
              "    .dataframe tbody tr th {\n",
              "        vertical-align: top;\n",
              "    }\n",
              "\n",
              "    .dataframe thead th {\n",
              "        text-align: right;\n",
              "    }\n",
              "</style>\n",
              "<table border=\"1\" class=\"dataframe\">\n",
              "  <thead>\n",
              "    <tr style=\"text-align: right;\">\n",
              "      <th></th>\n",
              "      <th>Reviews</th>\n",
              "      <th>Reviews_lowercase</th>\n",
              "      <th>Reviews_punctuation_emojis</th>\n",
              "    </tr>\n",
              "  </thead>\n",
              "  <tbody>\n",
              "    <tr>\n",
              "      <th>0</th>\n",
              "      <td>Subhash Chandra Bose was a prominent Indian na...</td>\n",
              "      <td>subhash chandra bose was a prominent indian na...</td>\n",
              "      <td>subhash chandra bose was a prominent indian na...</td>\n",
              "    </tr>\n",
              "    <tr>\n",
              "      <th>1</th>\n",
              "      <td>He was born on January 23, 1897, in Cuttack, O...</td>\n",
              "      <td>he was born on january 23, 1897, in cuttack, o...</td>\n",
              "      <td>he was born on january 23 1897 in cuttack odisha</td>\n",
              "    </tr>\n",
              "    <tr>\n",
              "      <th>2</th>\n",
              "      <td>Bose was known for his militant approach and f...</td>\n",
              "      <td>bose was known for his militant approach and f...</td>\n",
              "      <td>bose was known for his militant approach and f...</td>\n",
              "    </tr>\n",
              "    <tr>\n",
              "      <th>3</th>\n",
              "      <td>He sought assistance from Axis powers during W...</td>\n",
              "      <td>he sought assistance from axis powers during w...</td>\n",
              "      <td>he sought assistance from axis powers during w...</td>\n",
              "    </tr>\n",
              "    <tr>\n",
              "      <th>4</th>\n",
              "      <td>His famous slogan Give me blood, and I will gi...</td>\n",
              "      <td>his famous slogan give me blood, and i will gi...</td>\n",
              "      <td>his famous slogan give me blood and i will giv...</td>\n",
              "    </tr>\n",
              "    <tr>\n",
              "      <th>5</th>\n",
              "      <td>Bose's 😎 mysterious disappearance in 1945 rema...</td>\n",
              "      <td>bose's 😎 mysterious disappearance in 1945 rema...</td>\n",
              "      <td>boses  mysterious disappearance in 1945 remain...</td>\n",
              "    </tr>\n",
              "  </tbody>\n",
              "</table>\n",
              "</div>"
            ],
            "text/plain": [
              "                                             Reviews  \\\n",
              "0  Subhash Chandra Bose was a prominent Indian na...   \n",
              "1  He was born on January 23, 1897, in Cuttack, O...   \n",
              "2  Bose was known for his militant approach and f...   \n",
              "3  He sought assistance from Axis powers during W...   \n",
              "4  His famous slogan Give me blood, and I will gi...   \n",
              "5  Bose's 😎 mysterious disappearance in 1945 rema...   \n",
              "\n",
              "                                   Reviews_lowercase  \\\n",
              "0  subhash chandra bose was a prominent indian na...   \n",
              "1  he was born on january 23, 1897, in cuttack, o...   \n",
              "2  bose was known for his militant approach and f...   \n",
              "3  he sought assistance from axis powers during w...   \n",
              "4  his famous slogan give me blood, and i will gi...   \n",
              "5  bose's 😎 mysterious disappearance in 1945 rema...   \n",
              "\n",
              "                          Reviews_punctuation_emojis  \n",
              "0  subhash chandra bose was a prominent indian na...  \n",
              "1   he was born on january 23 1897 in cuttack odisha  \n",
              "2  bose was known for his militant approach and f...  \n",
              "3  he sought assistance from axis powers during w...  \n",
              "4  his famous slogan give me blood and i will giv...  \n",
              "5  boses  mysterious disappearance in 1945 remain...  "
            ]
          },
          "execution_count": 12,
          "metadata": {},
          "output_type": "execute_result"
        }
      ],
      "source": [
        "import re\n",
        "df_reviews['Reviews_punctuation_emojis']=df_reviews[\"Reviews_lowercase\"].apply(lambda x:re.sub(r'[^\\w\\s]','',x))\n",
        "df_reviews"
      ]
    },
    {
      "cell_type": "code",
      "execution_count": null,
      "metadata": {
        "vscode": {
          "languageId": "markdown"
        },
        "id": "jinhKL5Z7Lwh",
        "outputId": "da6efa99-4b4c-4add-84e2-b4d5649e4688"
      },
      "outputs": [
        {
          "name": "stderr",
          "output_type": "stream",
          "text": [
            "[nltk_data] Downloading package stopwords to\n",
            "[nltk_data]     C:\\Users\\sai51\\AppData\\Roaming\\nltk_data...\n",
            "[nltk_data]   Package stopwords is already up-to-date!\n"
          ]
        },
        {
          "data": {
            "text/html": [
              "<div>\n",
              "<style scoped>\n",
              "    .dataframe tbody tr th:only-of-type {\n",
              "        vertical-align: middle;\n",
              "    }\n",
              "\n",
              "    .dataframe tbody tr th {\n",
              "        vertical-align: top;\n",
              "    }\n",
              "\n",
              "    .dataframe thead th {\n",
              "        text-align: right;\n",
              "    }\n",
              "</style>\n",
              "<table border=\"1\" class=\"dataframe\">\n",
              "  <thead>\n",
              "    <tr style=\"text-align: right;\">\n",
              "      <th></th>\n",
              "      <th>Reviews</th>\n",
              "      <th>Reviews_lowercase</th>\n",
              "      <th>Reviews_punctuation_emojis</th>\n",
              "      <th>Review_NoStopwords</th>\n",
              "    </tr>\n",
              "  </thead>\n",
              "  <tbody>\n",
              "    <tr>\n",
              "      <th>0</th>\n",
              "      <td>Subhash Chandra Bose was a prominent Indian na...</td>\n",
              "      <td>subhash chandra bose was a prominent indian na...</td>\n",
              "      <td>subhash chandra bose was a prominent indian na...</td>\n",
              "      <td>subhash chandra bose prominent indian national...</td>\n",
              "    </tr>\n",
              "    <tr>\n",
              "      <th>1</th>\n",
              "      <td>He was born on January 23, 1897, in Cuttack, O...</td>\n",
              "      <td>he was born on january 23, 1897, in cuttack, o...</td>\n",
              "      <td>he was born on january 23 1897 in cuttack odisha</td>\n",
              "      <td>born january 23 1897 cuttack odisha</td>\n",
              "    </tr>\n",
              "    <tr>\n",
              "      <th>2</th>\n",
              "      <td>Bose was known for his militant approach and f...</td>\n",
              "      <td>bose was known for his militant approach and f...</td>\n",
              "      <td>bose was known for his militant approach and f...</td>\n",
              "      <td>bose known militant approach formed indian nat...</td>\n",
              "    </tr>\n",
              "    <tr>\n",
              "      <th>3</th>\n",
              "      <td>He sought assistance from Axis powers during W...</td>\n",
              "      <td>he sought assistance from axis powers during w...</td>\n",
              "      <td>he sought assistance from axis powers during w...</td>\n",
              "      <td>sought assistance axis powers world war ii ach...</td>\n",
              "    </tr>\n",
              "    <tr>\n",
              "      <th>4</th>\n",
              "      <td>His famous slogan Give me blood, and I will gi...</td>\n",
              "      <td>his famous slogan give me blood, and i will gi...</td>\n",
              "      <td>his famous slogan give me blood and i will giv...</td>\n",
              "      <td>famous slogan give blood give freedom inspired...</td>\n",
              "    </tr>\n",
              "    <tr>\n",
              "      <th>5</th>\n",
              "      <td>Bose's 😎 mysterious disappearance in 1945 rema...</td>\n",
              "      <td>bose's 😎 mysterious disappearance in 1945 rema...</td>\n",
              "      <td>boses  mysterious disappearance in 1945 remain...</td>\n",
              "      <td>boses mysterious disappearance 1945 remains su...</td>\n",
              "    </tr>\n",
              "  </tbody>\n",
              "</table>\n",
              "</div>"
            ],
            "text/plain": [
              "                                             Reviews  \\\n",
              "0  Subhash Chandra Bose was a prominent Indian na...   \n",
              "1  He was born on January 23, 1897, in Cuttack, O...   \n",
              "2  Bose was known for his militant approach and f...   \n",
              "3  He sought assistance from Axis powers during W...   \n",
              "4  His famous slogan Give me blood, and I will gi...   \n",
              "5  Bose's 😎 mysterious disappearance in 1945 rema...   \n",
              "\n",
              "                                   Reviews_lowercase  \\\n",
              "0  subhash chandra bose was a prominent indian na...   \n",
              "1  he was born on january 23, 1897, in cuttack, o...   \n",
              "2  bose was known for his militant approach and f...   \n",
              "3  he sought assistance from axis powers during w...   \n",
              "4  his famous slogan give me blood, and i will gi...   \n",
              "5  bose's 😎 mysterious disappearance in 1945 rema...   \n",
              "\n",
              "                          Reviews_punctuation_emojis  \\\n",
              "0  subhash chandra bose was a prominent indian na...   \n",
              "1   he was born on january 23 1897 in cuttack odisha   \n",
              "2  bose was known for his militant approach and f...   \n",
              "3  he sought assistance from axis powers during w...   \n",
              "4  his famous slogan give me blood and i will giv...   \n",
              "5  boses  mysterious disappearance in 1945 remain...   \n",
              "\n",
              "                                  Review_NoStopwords  \n",
              "0  subhash chandra bose prominent indian national...  \n",
              "1                born january 23 1897 cuttack odisha  \n",
              "2  bose known militant approach formed indian nat...  \n",
              "3  sought assistance axis powers world war ii ach...  \n",
              "4  famous slogan give blood give freedom inspired...  \n",
              "5  boses mysterious disappearance 1945 remains su...  "
            ]
          },
          "execution_count": 15,
          "metadata": {},
          "output_type": "execute_result"
        }
      ],
      "source": [
        "import nltk\n",
        "\n",
        "nltk.download('stopwords')\n",
        "from nltk.corpus import stopwords\n",
        "\n",
        "\n",
        "stop_words=set(stopwords.words('english'))\n",
        "\n",
        "df_reviews['Review_NoStopwords']= df_reviews['Reviews_punctuation_emojis'].apply(lambda x: ' '.join(words for words in x.split() if words not in stop_words))\n",
        "df_reviews"
      ]
    },
    {
      "cell_type": "markdown",
      "metadata": {
        "id": "x_2aovle7Lwh"
      },
      "source": [
        "## Tokenization\n",
        "\n",
        "Break text into samller parts: <br>\n",
        "    1.word tokenization <br>\n",
        "    2.subword tokenization<br>\n",
        "    ![alt text](image.png)<br>\n",
        "    3.Sentence tokenization"
      ]
    },
    {
      "cell_type": "markdown",
      "metadata": {
        "id": "wvWqdjqw7Lwh"
      },
      "source": [
        "Tokenization is a crucial step in text processing and natural language processing (NLP) for several reasons:\n",
        "\n",
        "Breaking Down Text: Tokenization breaks down a large body of text into smaller units, such as words or sentences, making it easier to analyze and process.\n",
        "\n",
        "Normalization: It helps in normalizing the text by converting it into a standard format. For example, splitting contractions (\"don't\" to \"do\" and \"not\") or handling punctuation.\n",
        "\n",
        "Feature Extraction: In machine learning and NLP, features are often derived from tokens. Tokenization allows for the extraction of meaningful features from the text.\n",
        "\n",
        "Efficiency: Processing smaller units (tokens) is computationally more efficient than processing entire strings of text.\n",
        "\n",
        "Context Understanding: Tokenization helps in understanding the context by identifying individual words or phrases, which can then be used for further analysis like part-of-speech tagging, named entity recognition, etc."
      ]
    },
    {
      "cell_type": "code",
      "execution_count": null,
      "metadata": {
        "vscode": {
          "languageId": "markdown"
        },
        "id": "ruiQ-PRV7Lwh",
        "outputId": "455664bf-5e50-4989-837e-6b732408e77c"
      },
      "outputs": [
        {
          "name": "stderr",
          "output_type": "stream",
          "text": [
            "[nltk_data] Downloading package punkt to\n",
            "[nltk_data]     C:\\Users\\sai51\\AppData\\Roaming\\nltk_data...\n"
          ]
        },
        {
          "name": "stdout",
          "output_type": "stream",
          "text": [
            "['Hello', ',', 'world', '!', 'Tokenization', 'is', 'important', 'for', 'text', 'processing', '.']\n"
          ]
        },
        {
          "name": "stderr",
          "output_type": "stream",
          "text": [
            "[nltk_data]   Unzipping tokenizers\\punkt.zip.\n"
          ]
        }
      ],
      "source": [
        "import nltk\n",
        "nltk.download('punkt')\n",
        "from nltk.tokenize import word_tokenize\n",
        "\n",
        "text = \"Hello, world! Tokenization is important for text processing.\"\n",
        "tokens = word_tokenize(text)\n",
        "\n",
        "print(tokens)"
      ]
    },
    {
      "cell_type": "markdown",
      "metadata": {
        "id": "hZHmFwLh7Lwh"
      },
      "source": [
        "## Next step Embedding\n",
        "\n",
        "Represent words as numbers so computers can understand similarities:<br>\n",
        "- turns words into vectors <br>\n",
        "- similar words (eg., \"king\" and \"queen\") have similar vectors<br>\n",
        "![image.png](attachment:image.png)"
      ]
    },
    {
      "cell_type": "markdown",
      "metadata": {
        "id": "hTyt-lB47Lwh"
      },
      "source": [
        "# Why do we need embeddings?\n",
        "\n",
        "In the past, methods like one-hot encoding were used to represent words. This approach has limitations:\n",
        "\n",
        "- **No semantic meaning**: One-hot vectors don't capture relationships between words.\n",
        "- **High dimensionality**: For large vocabularies, these vectors become very sparse and memory intensive.\n",
        "\n",
        "Embeddings address these issues by representing words as dense vectors, capturing semantic meaning and relationships between words. Similar words (e.g., \"king\" and \"queen\") have similar vectors, making it easier for computers to understand and process text data.\n",
        "\n",
        "# How embedding works?\n",
        "Embeddings are a way to represent words or phrases as vectors of real numbers in a continuous vector space. This representation captures semantic meaning, allowing similar words to have similar vector representations. Here's a high-level overview of how embeddings work:\n",
        "- **Initialization**: Embeddings are typically initialized with random values or pre-trained vectors (like Word2Vec, GloVe, or FastText).\n",
        "\n",
        "- **Training: During** training, the embeddings are adjusted based on the context in which words appear. This is done using neural networks, such as:\n",
        "\n",
        "- **Word2Vec**: Uses either Continuous Bag of Words (CBOW) or Skip-gram models to predict a word based on its context or vice versa.\n",
        "- **GloVeV**: Uses global word-word co-occurrence statistics to create embeddings.\n",
        "- **FastText**: Extends Word2Vec by considering subword information, which helps with rare words and misspellings.\n",
        "- **Vector Space**: After training, each word is represented as a point in a high-dimensional space. Words with similar meanings are close to each other in this space.\n",
        "\n",
        "Usage: These embeddings can be used in various NLP tasks, such as text classification, sentiment analysis, and machine translation, by feeding them into machine learning models.\n",
        "\n",
        "# What can we do with embeddings?\n",
        "\n",
        "Embeddings have a wide range of applications in NLP and machine learning, such as:\n",
        "\n",
        "1. **Text Classification**: Representing text data for tasks like sentiment analysis and spam detection.\n",
        "2. **Similarity Measurement**: Comparing vector representations of words or documents for clustering and recommendation systems.\n",
        "3. **Machine Translation**: Representing words in different languages for translation models.\n",
        "4. **Question Answering**: Finding relevant answers by representing questions and answers as vectors.\n",
        "5. **Information Retrieval**: Enhancing search engines by improving query and document representations.\n"
      ]
    },
    {
      "cell_type": "code",
      "execution_count": null,
      "metadata": {
        "id": "gSh783zc7Lwh"
      },
      "outputs": [],
      "source": [
        "from gensim.models import Word2Vec\n",
        "\n",
        "sentences=[\n",
        "    [\"king\",\"queen\",\"man\",\"woman\"],\n",
        "    ['apple','banana','mango','orange'],\n",
        "    ['king','man','ruler'],\n",
        "    ['queen','woman','ruler'],\n",
        "]\n",
        "model=Word2Vec(sentences,vector_size=3, window=2, min_count=1,sg=1)\n",
        "\n",
        "\n",
        "print(\"Get the embedding of the word 'king'\",model.wv[\"king\"])\n",
        "print(\"Most similar words to 'king': \",model.wv.most_similar(\"king\"))"
      ]
    },
    {
      "cell_type": "markdown",
      "metadata": {
        "id": "YZuBxOWX7Lwi"
      },
      "source": [
        "## What is attention mechanism?\n",
        "Attentions assign each word a weight a score how improtant it is in context.\n",
        "\n",
        "- in \"The cat, which was sleeping is jumped out of the wall,\" words like \"Cat\" and \"jumped\" get higher scores.\n",
        "- Attention model help \"Zoon in\"  on words which are most matters forthe task."
      ]
    },
    {
      "cell_type": "markdown",
      "metadata": {
        "id": "VkCNLxcz7Lwi"
      },
      "source": [
        "\n"
      ]
    },
    {
      "cell_type": "markdown",
      "metadata": {
        "id": "6Eqm7RWR7Lwi"
      },
      "source": [
        "# Why do we need attention mechanisum?\n",
        "computer struggles, it gives focus to every word in the sentence , which  makes it hard for them to know which word is important.\n",
        "\n",
        "- Attention mechanisum solves it to mimic like a human😎\n",
        "\n",
        "Example:\n",
        "-   The chief, who was famous for delicious pasta, quckly prepred the dish for the guest.<br>\n",
        "A human reader only focus on the main point - \" The cheif prepared the dish\"<br>\n",
        "details like famous for his delicious pasta add some context but arent essentail for the understanding the main action. <br>"
      ]
    },
    {
      "cell_type": "markdown",
      "metadata": {
        "id": "3c6oLylo7Lwi"
      },
      "source": []
    },
    {
      "cell_type": "markdown",
      "metadata": {
        "id": "h7QelbuT7Lwi"
      },
      "source": [
        "# How does attention mechanisum work?\n",
        "### Step1 is assign important to words\n",
        "\n",
        "Each word in a sentence gets an importance score based on its meaning and relation to each words.<br>\n",
        "\"The cat, Which was sleeping, jumped over the wall.\"\n",
        "\n",
        "### Step2: Calculate Attention Scores\n",
        "- Words Closely related in meaning or action have  higher scores. Score are Calculated based on  relationships. related words get higher scores.\n",
        "\n",
        "example:\n",
        "\"Cat\" and \"jumped\" get a high socre because they re directly relation.\n",
        "\n",
        "### Step3: Adjust Focus based on Scores\n",
        "\n",
        "- The model uses these scores to  focus  on high-scoring words. making sense of the sentences main meaning.<br>\n",
        "example:\n",
        "- \"Cat,\" \"jumped\" and \"Wall\" help  the model  understand  the action.\n"
      ]
    },
    {
      "cell_type": "markdown",
      "metadata": {
        "id": "ji4sLvPU7Lwi"
      },
      "source": []
    },
    {
      "cell_type": "markdown",
      "metadata": {
        "id": "VS_C3Tps7Lwi"
      },
      "source": [
        "# Why do we need Transformers?\n",
        "your reading a story one word at time, and your not allowed to go back to precious words.<br>\n",
        "you can only remember the current word your reading. Understanding the story would be almost impossiable!<br>\n",
        "\n",
        "### Before Transformers, it was hard for them to:\n",
        "- Remember details that appeared eariler in a sentence or paragraph.\n",
        "- understanding the complex relationship between words in long sentences.\n",
        "- process text quckly\n",
        "### Transformers changes this by letting models see the entire sentence or text at once, Which mean they can:\n",
        "- pick out the most important words immediately.\n",
        "- Understands the relationships, even if words are far apart in the sentence.\n",
        "- Process text much faster, because they're not limited to going word by word.\n",
        "\n",
        "-**Example:** Read a sentence like \"The lion, tired after hunting all day, rested under a tree.\n"
      ]
    },
    {
      "cell_type": "markdown",
      "metadata": {
        "id": "H0ldxQ_h7Lwi"
      },
      "source": [
        "# What is a Tansformers?\n",
        "\n",
        "A tranformers is a type of computer model the reads the whole sentence at once, Understanding<br>\n",
        "which words are important and how they relate to each other.<br>\n",
        "\n",
        "- it can see the whole story in one glance and find the key ideas immediately."
      ]
    },
    {
      "cell_type": "markdown",
      "metadata": {
        "id": "4vuGybGj7Lwi"
      },
      "source": [
        "# How it works?\n",
        "**Step 1:** Representing words with Embeddings and Positions\n",
        "- Tranformers start by turning each words into sentence into a set of numbers (an embedding) that represents the meaning of the word.\n",
        "- They also add a \"Position\" number to each word to keep track of the other of the words in the sentence.<br>\n",
        "\n",
        "**Example**: In the sentence \"The dog chase the ball\" here each words converts into number representation:\n",
        "- \"The\" -> [0.2,0.1,0.5](example numbers for meaning)\n",
        "- \"dog\" -> [0.9,0.6,0.1]\n",
        "- \"Chased\" -> [0.3,0.8,0.4]\n",
        "- \"ball\" -> [0.7,0.9,0.2]\n",
        "\n",
        "**Step 2:** Using Attention to Find Important Words\n",
        "\n",
        "The transfomer then uses attention to determine which words in the sentence are the most important for understanding the meaning.\n",
        "\n",
        "- Attention scores tell the transformer which words relate most closely to each other.\n",
        "\n",
        "**Example:** In the sentence:\n",
        "- \"The dog, tired after running,chased the ball.\n",
        "\n",
        "**Step 3:** Layers to build understanding step by step<br>\n",
        "\n",
        "Transformer have layers each one refining the model's understanding. Each layer is like a \"filter\"\n",
        "that focuses on different aspects of the sentence.\n",
        "\n",
        "- In the first layer the transformer looks for basic relationship, like connecting \"dog\" with \"chased\"\n",
        "- In the next layer, it might understand that \"Chased the ball\" is an action happening because the \"dog\" is involved.\n"
      ]
    },
    {
      "cell_type": "code",
      "execution_count": null,
      "metadata": {
        "id": "3ROhSgQu7Lwi"
      },
      "outputs": [],
      "source": []
    }
  ],
  "metadata": {
    "kernelspec": {
      "display_name": "base",
      "language": "python",
      "name": "python3"
    },
    "language_info": {
      "codemirror_mode": {
        "name": "ipython",
        "version": 3
      },
      "file_extension": ".py",
      "mimetype": "text/x-python",
      "name": "python",
      "nbconvert_exporter": "python",
      "pygments_lexer": "ipython3",
      "version": "3.12.4"
    },
    "colab": {
      "provenance": [],
      "include_colab_link": true
    }
  },
  "nbformat": 4,
  "nbformat_minor": 0
}